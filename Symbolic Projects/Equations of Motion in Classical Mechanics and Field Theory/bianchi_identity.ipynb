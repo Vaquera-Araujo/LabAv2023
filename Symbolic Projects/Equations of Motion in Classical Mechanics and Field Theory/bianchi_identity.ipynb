{
  "cells": [
    {
      "cell_type": "markdown",
      "source": [
        "# Bianchi Identity For The Electromagnetic Field"
      ],
      "metadata": {
        "id": "1ZeFXgzgcXh4"
      },
      "id": "1ZeFXgzgcXh4"
    },
    {
      "cell_type": "markdown",
      "source": [
        "## Preamble"
      ],
      "metadata": {
        "id": "SMpStlfZci3G"
      },
      "id": "SMpStlfZci3G"
    },
    {
      "cell_type": "code",
      "execution_count": 33,
      "id": "2329b91a",
      "metadata": {
        "id": "2329b91a"
      },
      "outputs": [],
      "source": [
        "from sympy import symbols, Rational, simplify\n",
        "from sympy.tensor.tensor import tensor_heads,TensorIndexType,tensor_indices,TensorSymmetry\n",
        "from sympy.tensor.toperators import PartialDerivative"
      ]
    },
    {
      "cell_type": "markdown",
      "id": "ca011683",
      "metadata": {
        "id": "ca011683"
      },
      "source": [
        "Definition of Indices"
      ]
    },
    {
      "cell_type": "code",
      "execution_count": 3,
      "id": "b3da01c1",
      "metadata": {
        "id": "b3da01c1"
      },
      "outputs": [],
      "source": [
        "Lorentz = TensorIndexType('Lorentz', dummy_name='alpha')"
      ]
    },
    {
      "cell_type": "code",
      "execution_count": 4,
      "id": "36a1b688",
      "metadata": {
        "id": "36a1b688"
      },
      "outputs": [],
      "source": [
        "mu, nu, rho, sigma = tensor_indices('mu, nu, rho, sigma ', Lorentz)"
      ]
    },
    {
      "cell_type": "markdown",
      "id": "c0ec8727",
      "metadata": {
        "id": "c0ec8727"
      },
      "source": [
        "Metric tensor and Kronecker delta"
      ]
    },
    {
      "cell_type": "code",
      "execution_count": 5,
      "id": "37eff905",
      "metadata": {
        "id": "37eff905"
      },
      "outputs": [],
      "source": [
        "g = Lorentz.metric\n",
        "KD= Lorentz.delta"
      ]
    },
    {
      "cell_type": "markdown",
      "id": "e1640e3e",
      "metadata": {
        "id": "e1640e3e"
      },
      "source": [
        "Definition of the vector field $A^\\mu$ and position four-vector $x^\\mu$"
      ]
    },
    {
      "cell_type": "code",
      "execution_count": 6,
      "id": "5f2779c9",
      "metadata": {
        "id": "5f2779c9"
      },
      "outputs": [],
      "source": [
        "A, x= tensor_heads('A, x', [Lorentz])"
      ]
    },
    {
      "cell_type": "markdown",
      "source": [
        "## Maxwell field strenght tensor $F^{\\mu\\nu}=\\partial^\\mu A^\\nu-\\partial^\\nu A^\\mu$ in terms of explicit field derivatives"
      ],
      "metadata": {
        "id": "nCgwgTtFdq0I"
      },
      "id": "nCgwgTtFdq0I"
    },
    {
      "cell_type": "code",
      "source": [
        "def F(a,b):\n",
        "  return PartialDerivative(A(b),x(-a))-PartialDerivative(A(a),x(-b))"
      ],
      "metadata": {
        "id": "wjxwBwR8NubA"
      },
      "execution_count": 7,
      "outputs": [],
      "id": "wjxwBwR8NubA"
    },
    {
      "cell_type": "code",
      "source": [
        "F(mu,nu)"
      ],
      "metadata": {
        "colab": {
          "base_uri": "https://localhost:8080/",
          "height": 57
        },
        "id": "J0-_AjjUO7qh",
        "outputId": "c88c40f5-836f-4576-a5d8-0869ee668767"
      },
      "execution_count": 8,
      "outputs": [
        {
          "output_type": "execute_result",
          "data": {
            "text/plain": [
              "PartialDerivative(A(nu), x(-mu)) - PartialDerivative(A(mu), x(-nu))"
            ],
            "text/latex": "$\\displaystyle -\\frac{\\partial}{\\partial {x{}_{\\nu}}}{A{}^{\\mu}} + \\frac{\\partial}{\\partial {x{}_{\\mu}}}{A{}^{\\nu}}$"
          },
          "metadata": {},
          "execution_count": 8
        }
      ],
      "id": "J0-_AjjUO7qh"
    },
    {
      "cell_type": "markdown",
      "source": [
        "## Bianchi identity"
      ],
      "metadata": {
        "id": "LmOdAyjQPCXc"
      },
      "id": "LmOdAyjQPCXc"
    },
    {
      "cell_type": "code",
      "source": [
        "BI0=PartialDerivative(F(mu,nu),x(-rho))+PartialDerivative(F(nu,rho),x(-mu))+PartialDerivative(F(rho,mu),x(-nu))"
      ],
      "metadata": {
        "id": "FGXXm1_RO9IV"
      },
      "execution_count": 20,
      "outputs": [],
      "id": "FGXXm1_RO9IV"
    },
    {
      "cell_type": "markdown",
      "source": [
        "Expansion and simplification"
      ],
      "metadata": {
        "id": "IhQlCYm_Px-v"
      },
      "id": "IhQlCYm_Px-v"
    },
    {
      "cell_type": "code",
      "source": [
        "BI1=simplify(BI0._expand_partial_derivative())\n",
        "BI1"
      ],
      "metadata": {
        "colab": {
          "base_uri": "https://localhost:8080/",
          "height": 59
        },
        "id": "qXe8sR-xO8cZ",
        "outputId": "7a7f9105-a2d7-451f-bc82-82077dad7f6f"
      },
      "id": "qXe8sR-xO8cZ",
      "execution_count": 21,
      "outputs": [
        {
          "output_type": "execute_result",
          "data": {
            "text/plain": [
              "PartialDerivative(A(mu), x(-rho), x(-nu)) + PartialDerivative(A(nu), x(-mu), x(-rho)) + PartialDerivative(A(rho), x(-nu), x(-mu)) - PartialDerivative(A(mu), x(-nu), x(-rho)) - PartialDerivative(A(nu), x(-rho), x(-mu)) - PartialDerivative(A(rho), x(-mu), x(-nu))"
            ],
            "text/latex": "$\\displaystyle -\\frac{\\partial^{2}}{\\partial {x{}_{\\mu}} \\partial {x{}_{\\nu}}}{A{}^{\\rho}} - \\frac{\\partial^{2}}{\\partial {x{}_{\\nu}} \\partial {x{}_{\\rho}}}{A{}^{\\mu}} - \\frac{\\partial^{2}}{\\partial {x{}_{\\rho}} \\partial {x{}_{\\mu}}}{A{}^{\\nu}} + \\frac{\\partial^{2}}{\\partial {x{}_{\\mu}} \\partial {x{}_{\\rho}}}{A{}^{\\nu}} + \\frac{\\partial^{2}}{\\partial {x{}_{\\nu}} \\partial {x{}_{\\mu}}}{A{}^{\\rho}} + \\frac{\\partial^{2}}{\\partial {x{}_{\\rho}} \\partial {x{}_{\\nu}}}{A{}^{\\mu}}$"
          },
          "metadata": {},
          "execution_count": 21
        }
      ]
    },
    {
      "cell_type": "markdown",
      "source": [
        "Definition of a second derivative tensor with the same symmetry properties of the terms in the Bianchi identity (symmetric under the exchange of the derivative indices)"
      ],
      "metadata": {
        "id": "ZU3wji-gUamL"
      },
      "id": "ZU3wji-gUamL"
    },
    {
      "cell_type": "code",
      "source": [
        "ddA=tensor_heads('ddA',[Lorentz]*3,TensorSymmetry.direct_product(2,1))"
      ],
      "metadata": {
        "id": "XQMEQ3A5UTxI"
      },
      "id": "XQMEQ3A5UTxI",
      "execution_count": 61,
      "outputs": []
    },
    {
      "cell_type": "markdown",
      "source": [
        "This piece of code reads the indices and the overall sign of each term in the Bianchi identity and transforms the explicit partial derivatives into the tensors ddA"
      ],
      "metadata": {
        "id": "5DpqwzqzYoaU"
      },
      "id": "5DpqwzqzYoaU"
    },
    {
      "cell_type": "code",
      "source": [
        "Args=BI1.args\n",
        "BI2=0\n",
        "for i in range(len(Args)):\n",
        "  ind=Args[i].get_free_indices()\n",
        "  if (Args[i].args)[0]==-1:\n",
        "    BI2=BI2-ddA(ind[1],ind[2],ind[0])\n",
        "  else:\n",
        "    BI2=BI2+ddA(ind[1],ind[2],ind[0])\n",
        "BI=BI2.simplify()"
      ],
      "metadata": {
        "id": "6-bRL5_nJZui"
      },
      "execution_count": 58,
      "outputs": [],
      "id": "6-bRL5_nJZui"
    },
    {
      "cell_type": "code",
      "source": [
        "BI"
      ],
      "metadata": {
        "colab": {
          "base_uri": "https://localhost:8080/",
          "height": 38
        },
        "id": "RIjdUaheWVW-",
        "outputId": "92155dd1-e08b-422e-969f-f043409f65ce"
      },
      "id": "RIjdUaheWVW-",
      "execution_count": 59,
      "outputs": [
        {
          "output_type": "execute_result",
          "data": {
            "text/plain": [
              "-ddA(mu, nu, rho) - ddA(nu, rho, mu) - ddA(rho, mu, nu) + ddA(mu, rho, nu) + ddA(nu, mu, rho) + ddA(rho, nu, mu)"
            ],
            "text/latex": "$\\displaystyle -ddA{}^{\\mu\\nu\\rho} - ddA{}^{\\nu\\rho\\mu} - ddA{}^{\\rho\\mu\\nu} + ddA{}^{\\mu\\rho\\nu} + ddA{}^{\\nu\\mu\\rho} + ddA{}^{\\rho\\nu\\mu}$"
          },
          "metadata": {},
          "execution_count": 59
        }
      ]
    },
    {
      "cell_type": "markdown",
      "source": [
        "Finally we exploit the symmetry properties of the second derivative"
      ],
      "metadata": {
        "id": "CE6phb4pY9xC"
      },
      "id": "CE6phb4pY9xC"
    },
    {
      "cell_type": "code",
      "source": [
        "BI.canon_bp()"
      ],
      "metadata": {
        "colab": {
          "base_uri": "https://localhost:8080/",
          "height": 37
        },
        "id": "zAesItIpW3do",
        "outputId": "c876d42c-f5b3-464e-a5be-27194fc0b2a2"
      },
      "id": "zAesItIpW3do",
      "execution_count": 60,
      "outputs": [
        {
          "output_type": "execute_result",
          "data": {
            "text/plain": [
              "0"
            ],
            "text/latex": "$\\displaystyle 0$"
          },
          "metadata": {},
          "execution_count": 60
        }
      ]
    }
  ],
  "metadata": {
    "kernelspec": {
      "display_name": "Python 3 (ipykernel)",
      "language": "python",
      "name": "python3"
    },
    "language_info": {
      "codemirror_mode": {
        "name": "ipython",
        "version": 3
      },
      "file_extension": ".py",
      "mimetype": "text/x-python",
      "name": "python",
      "nbconvert_exporter": "python",
      "pygments_lexer": "ipython3",
      "version": "3.9.12"
    },
    "colab": {
      "provenance": []
    }
  },
  "nbformat": 4,
  "nbformat_minor": 5
}