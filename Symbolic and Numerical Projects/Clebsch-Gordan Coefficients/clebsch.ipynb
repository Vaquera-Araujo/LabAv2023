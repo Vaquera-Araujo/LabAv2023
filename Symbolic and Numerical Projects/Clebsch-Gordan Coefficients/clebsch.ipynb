{
  "nbformat": 4,
  "nbformat_minor": 0,
  "metadata": {
    "colab": {
      "provenance": []
    },
    "kernelspec": {
      "name": "python3",
      "display_name": "Python 3"
    },
    "language_info": {
      "name": "python"
    }
  },
  "cells": [
    {
      "cell_type": "markdown",
      "source": [
        "# Clebsch-Gordan Coefficients for SU(2)"
      ],
      "metadata": {
        "id": "35phBBmcYQWN"
      }
    },
    {
      "cell_type": "markdown",
      "source": [
        "## Preamble"
      ],
      "metadata": {
        "id": "jSqfz_nrYJ0l"
      }
    },
    {
      "cell_type": "code",
      "execution_count": 1,
      "metadata": {
        "id": "lXysSctZjOGg"
      },
      "outputs": [],
      "source": [
        "import sympy as sp\n",
        "from sympy.physics.quantum import TensorProduct"
      ]
    },
    {
      "cell_type": "markdown",
      "source": [
        "## Generators of the Irreducible Representations of SU(2)"
      ],
      "metadata": {
        "id": "1m01K3f-jcCr"
      }
    },
    {
      "cell_type": "code",
      "source": [
        "def Jp(j0):\n",
        "  # $J^{+}$\n",
        "  j=sp.nsimplify(j0,rational=True)\n",
        "  res=sp.zeros(2*j+1)\n",
        "  for i in range(2*j+1):\n",
        "    m=j-i\n",
        "    res[i-1,i]=sp.sqrt((j+m+1)*(j-m))\n",
        "  return res\n",
        "\n",
        "def Jm(j0):\n",
        "  # $J^{-}$\n",
        "  return sp.conjugate(sp.transpose(Jp(j0)))\n",
        "\n",
        "def J(a,j0):\n",
        "  # $J_i$\n",
        "  if a==3:\n",
        "    j=sp.nsimplify(j0,rational=True)\n",
        "    res=sp.zeros(2*j+1)\n",
        "    for i in range(2*j+1):\n",
        "      m=j-i\n",
        "      res[i,i]=m\n",
        "    return res\n",
        "  elif a==1:\n",
        "    return (Jp(j0)+Jm(j0))/2\n",
        "  elif a==2:\n",
        "    return -sp.I*(Jp(j0)-Jm(j0))/2\n",
        "\n",
        "def JJ(j):\n",
        "  # Quadratic Casimir $J_iJ_i$\n",
        "  return (J(1,j)**2+J(2,j)**2+J(3,j)**2).simplify()"
      ],
      "metadata": {
        "id": "DC3WG-Mhje2Z"
      },
      "execution_count": 2,
      "outputs": []
    },
    {
      "cell_type": "markdown",
      "source": [
        "## Eigenstates"
      ],
      "metadata": {
        "id": "X81mMiMbo8F8"
      }
    },
    {
      "cell_type": "code",
      "source": [
        "def s(j,m):\n",
        "  # Spin State |j,m>\n",
        "  d=int(2*j+1)\n",
        "  i=sp.nsimplify(j-m,rational=True)\n",
        "  return sp.eye(d).col(i)"
      ],
      "metadata": {
        "id": "D-tbMzNVloai"
      },
      "execution_count": 3,
      "outputs": []
    },
    {
      "cell_type": "markdown",
      "source": [
        "## Direct Product Generators"
      ],
      "metadata": {
        "id": "O0U-S_UxYkWA"
      }
    },
    {
      "cell_type": "code",
      "source": [
        "def DJ(a,j01,j02):\n",
        "  # Total Spin, 'a' Specifies the Component, j1 and j2 the Spins of the Individual Particles\n",
        "  j1=sp.nsimplify(j01,rational=True)\n",
        "  j2=sp.nsimplify(j02,rational=True)\n",
        "  return TensorProduct(sp.Matrix(J(a,j1)),sp.eye(2*j2+1))+TensorProduct(sp.eye(2*j1+1),sp.Matrix(J(a,j2)))"
      ],
      "metadata": {
        "id": "XR-S_e--pTLw"
      },
      "execution_count": 4,
      "outputs": []
    },
    {
      "cell_type": "markdown",
      "source": [
        "## Quadratic Casimir $|\\mathbf{J}|^2$ in the Direct Product Basis"
      ],
      "metadata": {
        "id": "U8a2mUlyanF4"
      }
    },
    {
      "cell_type": "code",
      "source": [
        "def DJJ(j1,j2):\n",
        "  return sp.simplify(DJ(1,j1,j2)**2+DJ(2,j1,j2)**2+DJ(3,j1,j2)**2)"
      ],
      "metadata": {
        "id": "qy9oNUp-ZnLr"
      },
      "execution_count": 5,
      "outputs": []
    },
    {
      "cell_type": "markdown",
      "source": [
        "## Direct Product Basis"
      ],
      "metadata": {
        "id": "gYeiWYkxbTl1"
      }
    },
    {
      "cell_type": "code",
      "source": [
        "def Ds(j1,m1,j2,m2):\n",
        "  # States |j1,m1>|j2,m2>\n",
        "  return TensorProduct(sp.Matrix(s(j1,m1)),sp.Matrix(s(j2,m2)))"
      ],
      "metadata": {
        "id": "6O0jLWJibJd5"
      },
      "execution_count": 6,
      "outputs": []
    },
    {
      "cell_type": "markdown",
      "source": [
        "## Modal Matrix"
      ],
      "metadata": {
        "id": "pFag7qugb4O2"
      }
    },
    {
      "cell_type": "code",
      "source": [
        "def modal(j01,j02):\n",
        "  \"\"\"\n",
        "  This Function Normalizes the Eigenvectors in the Columns of the Modal Matrix and\n",
        "  Rephases it According to the Condon-Shortley Convention\n",
        "  And Returns the Modal Matrix and the Diagonalized Quadratic Casimir\n",
        "  \"\"\"\n",
        "  j1=sp.nsimplify(j01,rational=True)\n",
        "  j2=sp.nsimplify(j02,rational=True)\n",
        "  O0,JJD=DJJ(j1,j2).diagonalize()\n",
        "  O1=sp.simplify(O0*sp.sqrt(sp.transpose(O0)*O0)**(-1))\n",
        "  k=(2*j1+1)*(2*j2+1)\n",
        "  sig=sp.eye(k)\n",
        "  for b in range(k):\n",
        "    for a in range(k):\n",
        "      if O1[a,b]!=0:\n",
        "        sig[b,b]=sp.sign(O1[a,b])\n",
        "        break\n",
        "  return O1*sig, JJD"
      ],
      "metadata": {
        "id": "RM9p53cbbtaN"
      },
      "execution_count": 7,
      "outputs": []
    },
    {
      "cell_type": "markdown",
      "source": [
        "## Table of Clebsch-Gordan Coefficients"
      ],
      "metadata": {
        "id": "45njsSIh42zP"
      }
    },
    {
      "cell_type": "code",
      "source": [
        "def table_cg(j01,j02):\n",
        "  j1=sp.nsimplify(j01,rational=True)\n",
        "  j2=sp.nsimplify(j02,rational=True)\n",
        "  modal_matrix,JJ_diag=modal(j1,j2)\n",
        "  J3_diag=sp.transpose(modal_matrix)*DJ(3,j1,j2)*modal_matrix\n",
        "  dim=(DJJ(j1,j2).shape)[0]\n",
        "  for i in range(dim):\n",
        "    J=(-1+sp.sqrt(1+4*JJ_diag[i,i]))/2\n",
        "    M=J3_diag[i,i]\n",
        "    for i1 in range(2*j1+1):\n",
        "      m1=-j1+i1\n",
        "      for i2 in range(2*j2+1):\n",
        "        m2=-j2+i2\n",
        "        if m1+m2==M:\n",
        "          res=(sp.transpose(Ds(j1,m1,j2,m2))*modal_matrix.col(i))[0]\n",
        "          if res!=0:\n",
        "            print(f'<{j1},{m1};{j2},{m2}|{J},{M}> = {res}')"
      ],
      "metadata": {
        "id": "XjSjVrPPeGfu"
      },
      "execution_count": 12,
      "outputs": []
    },
    {
      "cell_type": "code",
      "source": [
        "table_cg(1,1)"
      ],
      "metadata": {
        "colab": {
          "base_uri": "https://localhost:8080/"
        },
        "id": "mRkDwGHcjNeS",
        "outputId": "c8f5e37f-35f9-44ba-e7da-03095b11849f"
      },
      "execution_count": 13,
      "outputs": [
        {
          "output_type": "stream",
          "name": "stdout",
          "text": [
            "<1,-1;1,1|0,0> = sqrt(3)/3\n",
            "<1,0;1,0|0,0> = -sqrt(3)/3\n",
            "<1,1;1,-1|0,0> = sqrt(3)/3\n",
            "<1,0;1,1|1,1> = -sqrt(2)/2\n",
            "<1,1;1,0|1,1> = sqrt(2)/2\n",
            "<1,-1;1,1|1,0> = -sqrt(2)/2\n",
            "<1,1;1,-1|1,0> = sqrt(2)/2\n",
            "<1,-1;1,0|1,-1> = -sqrt(2)/2\n",
            "<1,0;1,-1|1,-1> = sqrt(2)/2\n",
            "<1,1;1,1|2,2> = 1\n",
            "<1,0;1,1|2,1> = sqrt(2)/2\n",
            "<1,1;1,0|2,1> = sqrt(2)/2\n",
            "<1,-1;1,1|2,0> = sqrt(6)/6\n",
            "<1,0;1,0|2,0> = sqrt(6)/3\n",
            "<1,1;1,-1|2,0> = sqrt(6)/6\n",
            "<1,-1;1,0|2,-1> = sqrt(2)/2\n",
            "<1,0;1,-1|2,-1> = sqrt(2)/2\n",
            "<1,-1;1,-1|2,-2> = 1\n"
          ]
        }
      ]
    },
    {
      "cell_type": "code",
      "source": [
        "table_cg(2,2)"
      ],
      "metadata": {
        "id": "EGY_3Swk5Eus",
        "colab": {
          "base_uri": "https://localhost:8080/"
        },
        "outputId": "246e8a0e-0a74-45c8-8f3d-d409cdccea9c"
      },
      "execution_count": 14,
      "outputs": [
        {
          "output_type": "stream",
          "name": "stdout",
          "text": [
            "<2,-2;2,2|0,0> = sqrt(5)/5\n",
            "<2,-1;2,1|0,0> = -sqrt(5)/5\n",
            "<2,0;2,0|0,0> = sqrt(5)/5\n",
            "<2,1;2,-1|0,0> = -sqrt(5)/5\n",
            "<2,2;2,-2|0,0> = sqrt(5)/5\n",
            "<2,-1;2,2|1,1> = -sqrt(5)/5\n",
            "<2,0;2,1|1,1> = sqrt(30)/10\n",
            "<2,1;2,0|1,1> = -sqrt(30)/10\n",
            "<2,2;2,-1|1,1> = sqrt(5)/5\n",
            "<2,-2;2,2|1,0> = -sqrt(10)/5\n",
            "<2,-1;2,1|1,0> = sqrt(10)/10\n",
            "<2,1;2,-1|1,0> = -sqrt(10)/10\n",
            "<2,2;2,-2|1,0> = sqrt(10)/5\n",
            "<2,-2;2,1|1,-1> = -sqrt(5)/5\n",
            "<2,-1;2,0|1,-1> = sqrt(30)/10\n",
            "<2,0;2,-1|1,-1> = -sqrt(30)/10\n",
            "<2,1;2,-2|1,-1> = sqrt(5)/5\n",
            "<2,0;2,2|2,2> = sqrt(14)/7\n",
            "<2,1;2,1|2,2> = -sqrt(21)/7\n",
            "<2,2;2,0|2,2> = sqrt(14)/7\n",
            "<2,-1;2,2|2,1> = sqrt(21)/7\n",
            "<2,0;2,1|2,1> = -sqrt(14)/14\n",
            "<2,1;2,0|2,1> = -sqrt(14)/14\n",
            "<2,2;2,-1|2,1> = sqrt(21)/7\n",
            "<2,-2;2,2|2,0> = sqrt(14)/7\n",
            "<2,-1;2,1|2,0> = sqrt(14)/14\n",
            "<2,0;2,0|2,0> = -sqrt(14)/7\n",
            "<2,1;2,-1|2,0> = sqrt(14)/14\n",
            "<2,2;2,-2|2,0> = sqrt(14)/7\n",
            "<2,-2;2,1|2,-1> = sqrt(21)/7\n",
            "<2,-1;2,0|2,-1> = -sqrt(14)/14\n",
            "<2,0;2,-1|2,-1> = -sqrt(14)/14\n",
            "<2,1;2,-2|2,-1> = sqrt(21)/7\n",
            "<2,-2;2,0|2,-2> = sqrt(14)/7\n",
            "<2,-1;2,-1|2,-2> = -sqrt(21)/7\n",
            "<2,0;2,-2|2,-2> = sqrt(14)/7\n",
            "<2,1;2,2|3,3> = -sqrt(2)/2\n",
            "<2,2;2,1|3,3> = sqrt(2)/2\n",
            "<2,0;2,2|3,2> = -sqrt(2)/2\n",
            "<2,2;2,0|3,2> = sqrt(2)/2\n",
            "<2,-1;2,2|3,1> = -sqrt(30)/10\n",
            "<2,0;2,1|3,1> = -sqrt(5)/5\n",
            "<2,1;2,0|3,1> = sqrt(5)/5\n",
            "<2,2;2,-1|3,1> = sqrt(30)/10\n",
            "<2,-2;2,2|3,0> = -sqrt(10)/10\n",
            "<2,-1;2,1|3,0> = -sqrt(10)/5\n",
            "<2,1;2,-1|3,0> = sqrt(10)/5\n",
            "<2,2;2,-2|3,0> = sqrt(10)/10\n",
            "<2,-2;2,1|3,-1> = -sqrt(30)/10\n",
            "<2,-1;2,0|3,-1> = -sqrt(5)/5\n",
            "<2,0;2,-1|3,-1> = sqrt(5)/5\n",
            "<2,1;2,-2|3,-1> = sqrt(30)/10\n",
            "<2,-2;2,0|3,-2> = -sqrt(2)/2\n",
            "<2,0;2,-2|3,-2> = sqrt(2)/2\n",
            "<2,-2;2,-1|3,-3> = -sqrt(2)/2\n",
            "<2,-1;2,-2|3,-3> = sqrt(2)/2\n",
            "<2,2;2,2|4,4> = 1\n",
            "<2,1;2,2|4,3> = sqrt(2)/2\n",
            "<2,2;2,1|4,3> = sqrt(2)/2\n",
            "<2,0;2,2|4,2> = sqrt(42)/14\n",
            "<2,1;2,1|4,2> = 2*sqrt(7)/7\n",
            "<2,2;2,0|4,2> = sqrt(42)/14\n",
            "<2,-1;2,2|4,1> = sqrt(14)/14\n",
            "<2,0;2,1|4,1> = sqrt(21)/7\n",
            "<2,1;2,0|4,1> = sqrt(21)/7\n",
            "<2,2;2,-1|4,1> = sqrt(14)/14\n",
            "<2,-2;2,2|4,0> = sqrt(70)/70\n",
            "<2,-1;2,1|4,0> = 2*sqrt(70)/35\n",
            "<2,0;2,0|4,0> = 3*sqrt(70)/35\n",
            "<2,1;2,-1|4,0> = 2*sqrt(70)/35\n",
            "<2,2;2,-2|4,0> = sqrt(70)/70\n",
            "<2,-2;2,1|4,-1> = sqrt(14)/14\n",
            "<2,-1;2,0|4,-1> = sqrt(21)/7\n",
            "<2,0;2,-1|4,-1> = sqrt(21)/7\n",
            "<2,1;2,-2|4,-1> = sqrt(14)/14\n",
            "<2,-2;2,0|4,-2> = sqrt(42)/14\n",
            "<2,-1;2,-1|4,-2> = 2*sqrt(7)/7\n",
            "<2,0;2,-2|4,-2> = sqrt(42)/14\n",
            "<2,-2;2,-1|4,-3> = sqrt(2)/2\n",
            "<2,-1;2,-2|4,-3> = sqrt(2)/2\n",
            "<2,-2;2,-2|4,-4> = 1\n"
          ]
        }
      ]
    }
  ]
}