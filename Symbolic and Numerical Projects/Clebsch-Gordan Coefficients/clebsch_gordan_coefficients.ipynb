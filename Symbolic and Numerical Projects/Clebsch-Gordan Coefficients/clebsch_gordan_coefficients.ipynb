{
 "cells": [
  {
   "cell_type": "code",
   "execution_count": 2,
   "metadata": {},
   "outputs": [],
   "source": [
    "from sympy import *\n",
    "from sympy.physics.quantum import TensorProduct"
   ]
  },
  {
   "cell_type": "markdown",
   "metadata": {},
   "source": [
    "# $SU(2)$ Generators"
   ]
  },
  {
   "cell_type": "code",
   "execution_count": 3,
   "metadata": {},
   "outputs": [],
   "source": [
    "def Jp(j):\n",
    "    res=zeros(int(2*j+1))\n",
    "    k=nsimplify(j,rational=True)\n",
    "    for i in range(2*k+1):\n",
    "        m=k-i-1\n",
    "        if i<(2*k):\n",
    "            res[i,i+1]=sqrt((k-m)*(k+m+1))\n",
    "    return res\n",
    "\n",
    "def Jm(j):\n",
    "    return conjugate(transpose(Jp(j)))\n",
    "def J(a,j):\n",
    "    if a==3:\n",
    "        res=zeros(int(2*j+1))\n",
    "        k=nsimplify(j,rational=True)\n",
    "        for i in range(2*k+1):\n",
    "            m=k-i\n",
    "            res[i,i]=m\n",
    "        return res\n",
    "    elif a==1:\n",
    "        return (Jp(j)+Jm(j))/2\n",
    "    elif a==2:\n",
    "            return I*(Jm(j)-Jp(j))/2\n",
    "            \n",
    "def JJ(j):\n",
    "    return (J(1,j)**2+J(2,j)**2+J(3,j)**2).simplify()"
   ]
  },
  {
   "cell_type": "code",
   "execution_count": 4,
   "metadata": {},
   "outputs": [
    {
     "data": {
      "text/latex": [
       "$\\displaystyle \\left[\\begin{matrix}0 & \\frac{\\sqrt{2}}{2} & 0\\\\\\frac{\\sqrt{2}}{2} & 0 & \\frac{\\sqrt{2}}{2}\\\\0 & \\frac{\\sqrt{2}}{2} & 0\\end{matrix}\\right]$"
      ],
      "text/plain": [
       "Matrix([\n",
       "[        0, sqrt(2)/2,         0],\n",
       "[sqrt(2)/2,         0, sqrt(2)/2],\n",
       "[        0, sqrt(2)/2,         0]])"
      ]
     },
     "execution_count": 4,
     "metadata": {},
     "output_type": "execute_result"
    }
   ],
   "source": [
    "J(1,1)"
   ]
  },
  {
   "cell_type": "code",
   "execution_count": 5,
   "metadata": {},
   "outputs": [
    {
     "data": {
      "text/latex": [
       "$\\displaystyle \\left[\\begin{matrix}0 & - \\frac{\\sqrt{2} i}{2} & 0\\\\\\frac{\\sqrt{2} i}{2} & 0 & - \\frac{\\sqrt{2} i}{2}\\\\0 & \\frac{\\sqrt{2} i}{2} & 0\\end{matrix}\\right]$"
      ],
      "text/plain": [
       "Matrix([\n",
       "[          0, -sqrt(2)*I/2,            0],\n",
       "[sqrt(2)*I/2,            0, -sqrt(2)*I/2],\n",
       "[          0,  sqrt(2)*I/2,            0]])"
      ]
     },
     "execution_count": 5,
     "metadata": {},
     "output_type": "execute_result"
    }
   ],
   "source": [
    "J(2,1)"
   ]
  },
  {
   "cell_type": "code",
   "execution_count": 6,
   "metadata": {},
   "outputs": [
    {
     "data": {
      "text/latex": [
       "$\\displaystyle \\left[\\begin{matrix}1 & 0 & 0\\\\0 & 0 & 0\\\\0 & 0 & -1\\end{matrix}\\right]$"
      ],
      "text/plain": [
       "Matrix([\n",
       "[1, 0,  0],\n",
       "[0, 0,  0],\n",
       "[0, 0, -1]])"
      ]
     },
     "execution_count": 6,
     "metadata": {},
     "output_type": "execute_result"
    }
   ],
   "source": [
    "J(3,1)"
   ]
  },
  {
   "cell_type": "markdown",
   "metadata": {},
   "source": [
    "# Eigenstates"
   ]
  },
  {
   "cell_type": "code",
   "execution_count": 7,
   "metadata": {},
   "outputs": [],
   "source": [
    "def s(j,m):\n",
    "    d=int(2*j+1)\n",
    "    i=int(j-m)\n",
    "    return eye(d).col(i)"
   ]
  },
  {
   "cell_type": "code",
   "execution_count": 8,
   "metadata": {},
   "outputs": [
    {
     "data": {
      "text/latex": [
       "$\\displaystyle \\left[\\begin{matrix}1\\\\0\\\\0\\end{matrix}\\right]$"
      ],
      "text/plain": [
       "Matrix([\n",
       "[1],\n",
       "[0],\n",
       "[0]])"
      ]
     },
     "execution_count": 8,
     "metadata": {},
     "output_type": "execute_result"
    }
   ],
   "source": [
    "s(1,1)"
   ]
  },
  {
   "cell_type": "code",
   "execution_count": 9,
   "metadata": {},
   "outputs": [
    {
     "data": {
      "text/latex": [
       "$\\displaystyle \\left[\\begin{matrix}0\\\\1\\\\0\\end{matrix}\\right]$"
      ],
      "text/plain": [
       "Matrix([\n",
       "[0],\n",
       "[1],\n",
       "[0]])"
      ]
     },
     "execution_count": 9,
     "metadata": {},
     "output_type": "execute_result"
    }
   ],
   "source": [
    "s(1,0)"
   ]
  },
  {
   "cell_type": "code",
   "execution_count": 10,
   "metadata": {},
   "outputs": [
    {
     "data": {
      "text/latex": [
       "$\\displaystyle \\left[\\begin{matrix}0\\\\0\\\\1\\end{matrix}\\right]$"
      ],
      "text/plain": [
       "Matrix([\n",
       "[0],\n",
       "[0],\n",
       "[1]])"
      ]
     },
     "execution_count": 10,
     "metadata": {},
     "output_type": "execute_result"
    }
   ],
   "source": [
    "s(1,-1)"
   ]
  },
  {
   "cell_type": "markdown",
   "metadata": {},
   "source": [
    "# Direct product Generators"
   ]
  },
  {
   "cell_type": "code",
   "execution_count": 11,
   "metadata": {},
   "outputs": [],
   "source": [
    "def DJ(a,j1,j2):\n",
    "    k1=nsimplify(j1,rational=True)\n",
    "    k2=nsimplify(j2,rational=True)\n",
    "    return TensorProduct(Matrix(J(a,k1)),eye(2*k2+1))+TensorProduct(eye(2*k1+1),Matrix(J(a,k2)))\n",
    "def DJJ(j1,j2):\n",
    "    return simplify(DJ(1,j1,j2)**2+DJ(2,j1,j2)**2+DJ(3,j1,j2)**2)"
   ]
  },
  {
   "cell_type": "code",
   "execution_count": 12,
   "metadata": {},
   "outputs": [
    {
     "data": {
      "text/latex": [
       "$\\displaystyle \\left[\\begin{matrix}0 & \\frac{\\sqrt{2}}{2} & 0 & \\frac{\\sqrt{2}}{2} & 0 & 0 & 0 & 0 & 0\\\\\\frac{\\sqrt{2}}{2} & 0 & \\frac{\\sqrt{2}}{2} & 0 & \\frac{\\sqrt{2}}{2} & 0 & 0 & 0 & 0\\\\0 & \\frac{\\sqrt{2}}{2} & 0 & 0 & 0 & \\frac{\\sqrt{2}}{2} & 0 & 0 & 0\\\\\\frac{\\sqrt{2}}{2} & 0 & 0 & 0 & \\frac{\\sqrt{2}}{2} & 0 & \\frac{\\sqrt{2}}{2} & 0 & 0\\\\0 & \\frac{\\sqrt{2}}{2} & 0 & \\frac{\\sqrt{2}}{2} & 0 & \\frac{\\sqrt{2}}{2} & 0 & \\frac{\\sqrt{2}}{2} & 0\\\\0 & 0 & \\frac{\\sqrt{2}}{2} & 0 & \\frac{\\sqrt{2}}{2} & 0 & 0 & 0 & \\frac{\\sqrt{2}}{2}\\\\0 & 0 & 0 & \\frac{\\sqrt{2}}{2} & 0 & 0 & 0 & \\frac{\\sqrt{2}}{2} & 0\\\\0 & 0 & 0 & 0 & \\frac{\\sqrt{2}}{2} & 0 & \\frac{\\sqrt{2}}{2} & 0 & \\frac{\\sqrt{2}}{2}\\\\0 & 0 & 0 & 0 & 0 & \\frac{\\sqrt{2}}{2} & 0 & \\frac{\\sqrt{2}}{2} & 0\\end{matrix}\\right]$"
      ],
      "text/plain": [
       "Matrix([\n",
       "[        0, sqrt(2)/2,         0, sqrt(2)/2,         0,         0,         0,         0,         0],\n",
       "[sqrt(2)/2,         0, sqrt(2)/2,         0, sqrt(2)/2,         0,         0,         0,         0],\n",
       "[        0, sqrt(2)/2,         0,         0,         0, sqrt(2)/2,         0,         0,         0],\n",
       "[sqrt(2)/2,         0,         0,         0, sqrt(2)/2,         0, sqrt(2)/2,         0,         0],\n",
       "[        0, sqrt(2)/2,         0, sqrt(2)/2,         0, sqrt(2)/2,         0, sqrt(2)/2,         0],\n",
       "[        0,         0, sqrt(2)/2,         0, sqrt(2)/2,         0,         0,         0, sqrt(2)/2],\n",
       "[        0,         0,         0, sqrt(2)/2,         0,         0,         0, sqrt(2)/2,         0],\n",
       "[        0,         0,         0,         0, sqrt(2)/2,         0, sqrt(2)/2,         0, sqrt(2)/2],\n",
       "[        0,         0,         0,         0,         0, sqrt(2)/2,         0, sqrt(2)/2,         0]])"
      ]
     },
     "execution_count": 12,
     "metadata": {},
     "output_type": "execute_result"
    }
   ],
   "source": [
    "DJ(1,1,1)"
   ]
  },
  {
   "cell_type": "code",
   "execution_count": 13,
   "metadata": {},
   "outputs": [
    {
     "data": {
      "text/latex": [
       "$\\displaystyle \\left[\\begin{matrix}0 & - \\frac{\\sqrt{2} i}{2} & 0 & - \\frac{\\sqrt{2} i}{2} & 0 & 0 & 0 & 0 & 0\\\\\\frac{\\sqrt{2} i}{2} & 0 & - \\frac{\\sqrt{2} i}{2} & 0 & - \\frac{\\sqrt{2} i}{2} & 0 & 0 & 0 & 0\\\\0 & \\frac{\\sqrt{2} i}{2} & 0 & 0 & 0 & - \\frac{\\sqrt{2} i}{2} & 0 & 0 & 0\\\\\\frac{\\sqrt{2} i}{2} & 0 & 0 & 0 & - \\frac{\\sqrt{2} i}{2} & 0 & - \\frac{\\sqrt{2} i}{2} & 0 & 0\\\\0 & \\frac{\\sqrt{2} i}{2} & 0 & \\frac{\\sqrt{2} i}{2} & 0 & - \\frac{\\sqrt{2} i}{2} & 0 & - \\frac{\\sqrt{2} i}{2} & 0\\\\0 & 0 & \\frac{\\sqrt{2} i}{2} & 0 & \\frac{\\sqrt{2} i}{2} & 0 & 0 & 0 & - \\frac{\\sqrt{2} i}{2}\\\\0 & 0 & 0 & \\frac{\\sqrt{2} i}{2} & 0 & 0 & 0 & - \\frac{\\sqrt{2} i}{2} & 0\\\\0 & 0 & 0 & 0 & \\frac{\\sqrt{2} i}{2} & 0 & \\frac{\\sqrt{2} i}{2} & 0 & - \\frac{\\sqrt{2} i}{2}\\\\0 & 0 & 0 & 0 & 0 & \\frac{\\sqrt{2} i}{2} & 0 & \\frac{\\sqrt{2} i}{2} & 0\\end{matrix}\\right]$"
      ],
      "text/plain": [
       "Matrix([\n",
       "[          0, -sqrt(2)*I/2,            0, -sqrt(2)*I/2,            0,            0,            0,            0,            0],\n",
       "[sqrt(2)*I/2,            0, -sqrt(2)*I/2,            0, -sqrt(2)*I/2,            0,            0,            0,            0],\n",
       "[          0,  sqrt(2)*I/2,            0,            0,            0, -sqrt(2)*I/2,            0,            0,            0],\n",
       "[sqrt(2)*I/2,            0,            0,            0, -sqrt(2)*I/2,            0, -sqrt(2)*I/2,            0,            0],\n",
       "[          0,  sqrt(2)*I/2,            0,  sqrt(2)*I/2,            0, -sqrt(2)*I/2,            0, -sqrt(2)*I/2,            0],\n",
       "[          0,            0,  sqrt(2)*I/2,            0,  sqrt(2)*I/2,            0,            0,            0, -sqrt(2)*I/2],\n",
       "[          0,            0,            0,  sqrt(2)*I/2,            0,            0,            0, -sqrt(2)*I/2,            0],\n",
       "[          0,            0,            0,            0,  sqrt(2)*I/2,            0,  sqrt(2)*I/2,            0, -sqrt(2)*I/2],\n",
       "[          0,            0,            0,            0,            0,  sqrt(2)*I/2,            0,  sqrt(2)*I/2,            0]])"
      ]
     },
     "execution_count": 13,
     "metadata": {},
     "output_type": "execute_result"
    }
   ],
   "source": [
    "DJ(2,1,1)"
   ]
  },
  {
   "cell_type": "code",
   "execution_count": 14,
   "metadata": {},
   "outputs": [
    {
     "data": {
      "text/latex": [
       "$\\displaystyle \\left[\\begin{matrix}2 & 0 & 0 & 0 & 0 & 0 & 0 & 0 & 0\\\\0 & 1 & 0 & 0 & 0 & 0 & 0 & 0 & 0\\\\0 & 0 & 0 & 0 & 0 & 0 & 0 & 0 & 0\\\\0 & 0 & 0 & 1 & 0 & 0 & 0 & 0 & 0\\\\0 & 0 & 0 & 0 & 0 & 0 & 0 & 0 & 0\\\\0 & 0 & 0 & 0 & 0 & -1 & 0 & 0 & 0\\\\0 & 0 & 0 & 0 & 0 & 0 & 0 & 0 & 0\\\\0 & 0 & 0 & 0 & 0 & 0 & 0 & -1 & 0\\\\0 & 0 & 0 & 0 & 0 & 0 & 0 & 0 & -2\\end{matrix}\\right]$"
      ],
      "text/plain": [
       "Matrix([\n",
       "[2, 0, 0, 0, 0,  0, 0,  0,  0],\n",
       "[0, 1, 0, 0, 0,  0, 0,  0,  0],\n",
       "[0, 0, 0, 0, 0,  0, 0,  0,  0],\n",
       "[0, 0, 0, 1, 0,  0, 0,  0,  0],\n",
       "[0, 0, 0, 0, 0,  0, 0,  0,  0],\n",
       "[0, 0, 0, 0, 0, -1, 0,  0,  0],\n",
       "[0, 0, 0, 0, 0,  0, 0,  0,  0],\n",
       "[0, 0, 0, 0, 0,  0, 0, -1,  0],\n",
       "[0, 0, 0, 0, 0,  0, 0,  0, -2]])"
      ]
     },
     "execution_count": 14,
     "metadata": {},
     "output_type": "execute_result"
    }
   ],
   "source": [
    "DJ(3,1,1)"
   ]
  },
  {
   "cell_type": "code",
   "execution_count": 15,
   "metadata": {},
   "outputs": [
    {
     "data": {
      "text/latex": [
       "$\\displaystyle \\left[\\begin{matrix}6 & 0 & 0 & 0 & 0 & 0 & 0 & 0 & 0\\\\0 & 4 & 0 & 2 & 0 & 0 & 0 & 0 & 0\\\\0 & 0 & 2 & 0 & 2 & 0 & 0 & 0 & 0\\\\0 & 2 & 0 & 4 & 0 & 0 & 0 & 0 & 0\\\\0 & 0 & 2 & 0 & 4 & 0 & 2 & 0 & 0\\\\0 & 0 & 0 & 0 & 0 & 4 & 0 & 2 & 0\\\\0 & 0 & 0 & 0 & 2 & 0 & 2 & 0 & 0\\\\0 & 0 & 0 & 0 & 0 & 2 & 0 & 4 & 0\\\\0 & 0 & 0 & 0 & 0 & 0 & 0 & 0 & 6\\end{matrix}\\right]$"
      ],
      "text/plain": [
       "Matrix([\n",
       "[6, 0, 0, 0, 0, 0, 0, 0, 0],\n",
       "[0, 4, 0, 2, 0, 0, 0, 0, 0],\n",
       "[0, 0, 2, 0, 2, 0, 0, 0, 0],\n",
       "[0, 2, 0, 4, 0, 0, 0, 0, 0],\n",
       "[0, 0, 2, 0, 4, 0, 2, 0, 0],\n",
       "[0, 0, 0, 0, 0, 4, 0, 2, 0],\n",
       "[0, 0, 0, 0, 2, 0, 2, 0, 0],\n",
       "[0, 0, 0, 0, 0, 2, 0, 4, 0],\n",
       "[0, 0, 0, 0, 0, 0, 0, 0, 6]])"
      ]
     },
     "execution_count": 15,
     "metadata": {},
     "output_type": "execute_result"
    }
   ],
   "source": [
    "DJJ(1,1)"
   ]
  },
  {
   "cell_type": "markdown",
   "metadata": {},
   "source": [
    "# Direct Product Basis"
   ]
  },
  {
   "cell_type": "code",
   "execution_count": 16,
   "metadata": {},
   "outputs": [],
   "source": [
    "def Ds(j1,m1,j2,m2):\n",
    "    return TensorProduct(Matrix(s(j1,m1)),Matrix(s(j2,m2)))"
   ]
  },
  {
   "cell_type": "code",
   "execution_count": 19,
   "metadata": {},
   "outputs": [
    {
     "data": {
      "text/latex": [
       "$\\displaystyle \\left[\\begin{matrix}0\\\\0\\\\0\\\\0\\\\0\\\\1\\\\0\\\\0\\\\0\\end{matrix}\\right]$"
      ],
      "text/plain": [
       "Matrix([\n",
       "[0],\n",
       "[0],\n",
       "[0],\n",
       "[0],\n",
       "[0],\n",
       "[1],\n",
       "[0],\n",
       "[0],\n",
       "[0]])"
      ]
     },
     "execution_count": 19,
     "metadata": {},
     "output_type": "execute_result"
    }
   ],
   "source": [
    "Ds(1,0,1,-1)"
   ]
  },
  {
   "cell_type": "markdown",
   "metadata": {},
   "source": [
    "# Modal Matrix"
   ]
  },
  {
   "cell_type": "code",
   "execution_count": 23,
   "metadata": {},
   "outputs": [],
   "source": [
    "def modal(j1,j2):\n",
    "    k1=nsimplify(j1,rational=True)\n",
    "    k2=nsimplify(j2,rational=True)\n",
    "    O0,JJD=DJJ(k1,k2).diagonalize()\n",
    "    O1=simplify(O0*sqrt(conjugate(transpose(O0))*O0)**(-1))\n",
    "    k=(2*k1+1)*(2*k2+1)\n",
    "    sig=eye(k)\n",
    "    for j in range(k):\n",
    "        for i in range (k):\n",
    "            if O1[i,j]!=0:\n",
    "                sig[j,j]=sign(O1[i,j])\n",
    "                break \n",
    "    return O1*sig\n",
    "    "
   ]
  },
  {
   "cell_type": "code",
   "execution_count": 24,
   "metadata": {},
   "outputs": [
    {
     "data": {
      "text/latex": [
       "$\\displaystyle \\left[\\begin{matrix}0 & 0 & 0 & 0 & 1 & 0 & 0 & 0 & 0\\\\0 & \\frac{\\sqrt{2}}{2} & 0 & 0 & 0 & \\frac{\\sqrt{2}}{2} & 0 & 0 & 0\\\\\\frac{\\sqrt{3}}{3} & 0 & \\frac{\\sqrt{2}}{2} & 0 & 0 & 0 & \\frac{\\sqrt{6}}{6} & 0 & 0\\\\0 & - \\frac{\\sqrt{2}}{2} & 0 & 0 & 0 & \\frac{\\sqrt{2}}{2} & 0 & 0 & 0\\\\- \\frac{\\sqrt{3}}{3} & 0 & 0 & 0 & 0 & 0 & \\frac{\\sqrt{6}}{3} & 0 & 0\\\\0 & 0 & 0 & \\frac{\\sqrt{2}}{2} & 0 & 0 & 0 & \\frac{\\sqrt{2}}{2} & 0\\\\\\frac{\\sqrt{3}}{3} & 0 & - \\frac{\\sqrt{2}}{2} & 0 & 0 & 0 & \\frac{\\sqrt{6}}{6} & 0 & 0\\\\0 & 0 & 0 & - \\frac{\\sqrt{2}}{2} & 0 & 0 & 0 & \\frac{\\sqrt{2}}{2} & 0\\\\0 & 0 & 0 & 0 & 0 & 0 & 0 & 0 & 1\\end{matrix}\\right]$"
      ],
      "text/plain": [
       "Matrix([\n",
       "[         0,          0,          0,          0, 1,         0,         0,         0, 0],\n",
       "[         0,  sqrt(2)/2,          0,          0, 0, sqrt(2)/2,         0,         0, 0],\n",
       "[ sqrt(3)/3,          0,  sqrt(2)/2,          0, 0,         0, sqrt(6)/6,         0, 0],\n",
       "[         0, -sqrt(2)/2,          0,          0, 0, sqrt(2)/2,         0,         0, 0],\n",
       "[-sqrt(3)/3,          0,          0,          0, 0,         0, sqrt(6)/3,         0, 0],\n",
       "[         0,          0,          0,  sqrt(2)/2, 0,         0,         0, sqrt(2)/2, 0],\n",
       "[ sqrt(3)/3,          0, -sqrt(2)/2,          0, 0,         0, sqrt(6)/6,         0, 0],\n",
       "[         0,          0,          0, -sqrt(2)/2, 0,         0,         0, sqrt(2)/2, 0],\n",
       "[         0,          0,          0,          0, 0,         0,         0,         0, 1]])"
      ]
     },
     "execution_count": 24,
     "metadata": {},
     "output_type": "execute_result"
    }
   ],
   "source": [
    "modal(1,1)"
   ]
  },
  {
   "cell_type": "code",
   "execution_count": 25,
   "metadata": {},
   "outputs": [
    {
     "data": {
      "text/latex": [
       "$\\displaystyle \\left[\\begin{matrix}0 & 0 & 0 & 0 & 0 & 0 & 0 & 0 & 0\\\\0 & 1 & 0 & 0 & 0 & 0 & 0 & 0 & 0\\\\0 & 0 & 0 & 0 & 0 & 0 & 0 & 0 & 0\\\\0 & 0 & 0 & -1 & 0 & 0 & 0 & 0 & 0\\\\0 & 0 & 0 & 0 & 2 & 0 & 0 & 0 & 0\\\\0 & 0 & 0 & 0 & 0 & 1 & 0 & 0 & 0\\\\0 & 0 & 0 & 0 & 0 & 0 & 0 & 0 & 0\\\\0 & 0 & 0 & 0 & 0 & 0 & 0 & -1 & 0\\\\0 & 0 & 0 & 0 & 0 & 0 & 0 & 0 & -2\\end{matrix}\\right]$"
      ],
      "text/plain": [
       "Matrix([\n",
       "[0, 0, 0,  0, 0, 0, 0,  0,  0],\n",
       "[0, 1, 0,  0, 0, 0, 0,  0,  0],\n",
       "[0, 0, 0,  0, 0, 0, 0,  0,  0],\n",
       "[0, 0, 0, -1, 0, 0, 0,  0,  0],\n",
       "[0, 0, 0,  0, 2, 0, 0,  0,  0],\n",
       "[0, 0, 0,  0, 0, 1, 0,  0,  0],\n",
       "[0, 0, 0,  0, 0, 0, 0,  0,  0],\n",
       "[0, 0, 0,  0, 0, 0, 0, -1,  0],\n",
       "[0, 0, 0,  0, 0, 0, 0,  0, -2]])"
      ]
     },
     "execution_count": 25,
     "metadata": {},
     "output_type": "execute_result"
    }
   ],
   "source": [
    "(modal(1,1)**(-1))*DJ(3,1,1)*modal(1,1)"
   ]
  },
  {
   "cell_type": "code",
   "execution_count": 26,
   "metadata": {},
   "outputs": [
    {
     "data": {
      "text/latex": [
       "$\\displaystyle \\left[\\begin{matrix}0 & 0 & 0 & 0 & 0 & 0 & 0 & 0 & 0\\\\0 & 2 & 0 & 0 & 0 & 0 & 0 & 0 & 0\\\\0 & 0 & 2 & 0 & 0 & 0 & 0 & 0 & 0\\\\0 & 0 & 0 & 2 & 0 & 0 & 0 & 0 & 0\\\\0 & 0 & 0 & 0 & 6 & 0 & 0 & 0 & 0\\\\0 & 0 & 0 & 0 & 0 & 6 & 0 & 0 & 0\\\\0 & 0 & 0 & 0 & 0 & 0 & 6 & 0 & 0\\\\0 & 0 & 0 & 0 & 0 & 0 & 0 & 6 & 0\\\\0 & 0 & 0 & 0 & 0 & 0 & 0 & 0 & 6\\end{matrix}\\right]$"
      ],
      "text/plain": [
       "Matrix([\n",
       "[0, 0, 0, 0, 0, 0, 0, 0, 0],\n",
       "[0, 2, 0, 0, 0, 0, 0, 0, 0],\n",
       "[0, 0, 2, 0, 0, 0, 0, 0, 0],\n",
       "[0, 0, 0, 2, 0, 0, 0, 0, 0],\n",
       "[0, 0, 0, 0, 6, 0, 0, 0, 0],\n",
       "[0, 0, 0, 0, 0, 6, 0, 0, 0],\n",
       "[0, 0, 0, 0, 0, 0, 6, 0, 0],\n",
       "[0, 0, 0, 0, 0, 0, 0, 6, 0],\n",
       "[0, 0, 0, 0, 0, 0, 0, 0, 6]])"
      ]
     },
     "execution_count": 26,
     "metadata": {},
     "output_type": "execute_result"
    }
   ],
   "source": [
    "(modal(1,1)**(-1))*DJJ(1,1)*modal(1,1)"
   ]
  },
  {
   "cell_type": "code",
   "execution_count": 27,
   "metadata": {},
   "outputs": [
    {
     "data": {
      "text/latex": [
       "$\\displaystyle \\left[\\begin{array}{ccccccccccccccccccccccccc}0 & 0 & 0 & 0 & 0 & 0 & 0 & 0 & 0 & 0 & 0 & 0 & 0 & 0 & 0 & 0 & 1 & 0 & 0 & 0 & 0 & 0 & 0 & 0 & 0\\\\0 & 0 & 0 & 0 & 0 & 0 & 0 & 0 & 0 & \\frac{\\sqrt{2}}{2} & 0 & 0 & 0 & 0 & 0 & 0 & 0 & \\frac{\\sqrt{2}}{2} & 0 & 0 & 0 & 0 & 0 & 0 & 0\\\\0 & 0 & 0 & 0 & \\frac{\\sqrt{14}}{7} & 0 & 0 & 0 & 0 & 0 & \\frac{\\sqrt{2}}{2} & 0 & 0 & 0 & 0 & 0 & 0 & 0 & \\frac{\\sqrt{42}}{14} & 0 & 0 & 0 & 0 & 0 & 0\\\\0 & \\frac{\\sqrt{5}}{5} & 0 & 0 & 0 & \\frac{\\sqrt{21}}{7} & 0 & 0 & 0 & 0 & 0 & \\frac{\\sqrt{30}}{10} & 0 & 0 & 0 & 0 & 0 & 0 & 0 & \\frac{\\sqrt{14}}{14} & 0 & 0 & 0 & 0 & 0\\\\\\frac{\\sqrt{5}}{5} & 0 & \\frac{\\sqrt{10}}{5} & 0 & 0 & 0 & \\frac{\\sqrt{14}}{7} & 0 & 0 & 0 & 0 & 0 & \\frac{\\sqrt{10}}{10} & 0 & 0 & 0 & 0 & 0 & 0 & 0 & \\frac{\\sqrt{70}}{70} & 0 & 0 & 0 & 0\\\\0 & 0 & 0 & 0 & 0 & 0 & 0 & 0 & 0 & - \\frac{\\sqrt{2}}{2} & 0 & 0 & 0 & 0 & 0 & 0 & 0 & \\frac{\\sqrt{2}}{2} & 0 & 0 & 0 & 0 & 0 & 0 & 0\\\\0 & 0 & 0 & 0 & - \\frac{\\sqrt{21}}{7} & 0 & 0 & 0 & 0 & 0 & 0 & 0 & 0 & 0 & 0 & 0 & 0 & 0 & \\frac{2 \\sqrt{7}}{7} & 0 & 0 & 0 & 0 & 0 & 0\\\\0 & - \\frac{\\sqrt{30}}{10} & 0 & 0 & 0 & - \\frac{\\sqrt{14}}{14} & 0 & 0 & 0 & 0 & 0 & \\frac{\\sqrt{5}}{5} & 0 & 0 & 0 & 0 & 0 & 0 & 0 & \\frac{\\sqrt{21}}{7} & 0 & 0 & 0 & 0 & 0\\\\- \\frac{\\sqrt{5}}{5} & 0 & - \\frac{\\sqrt{10}}{10} & 0 & 0 & 0 & \\frac{\\sqrt{14}}{14} & 0 & 0 & 0 & 0 & 0 & \\frac{\\sqrt{10}}{5} & 0 & 0 & 0 & 0 & 0 & 0 & 0 & \\frac{2 \\sqrt{70}}{35} & 0 & 0 & 0 & 0\\\\0 & 0 & 0 & \\frac{\\sqrt{5}}{5} & 0 & 0 & 0 & \\frac{\\sqrt{21}}{7} & 0 & 0 & 0 & 0 & 0 & \\frac{\\sqrt{30}}{10} & 0 & 0 & 0 & 0 & 0 & 0 & 0 & \\frac{\\sqrt{14}}{14} & 0 & 0 & 0\\\\0 & 0 & 0 & 0 & \\frac{\\sqrt{14}}{7} & 0 & 0 & 0 & 0 & 0 & - \\frac{\\sqrt{2}}{2} & 0 & 0 & 0 & 0 & 0 & 0 & 0 & \\frac{\\sqrt{42}}{14} & 0 & 0 & 0 & 0 & 0 & 0\\\\0 & \\frac{\\sqrt{30}}{10} & 0 & 0 & 0 & - \\frac{\\sqrt{14}}{14} & 0 & 0 & 0 & 0 & 0 & - \\frac{\\sqrt{5}}{5} & 0 & 0 & 0 & 0 & 0 & 0 & 0 & \\frac{\\sqrt{21}}{7} & 0 & 0 & 0 & 0 & 0\\\\\\frac{\\sqrt{5}}{5} & 0 & 0 & 0 & 0 & 0 & - \\frac{\\sqrt{14}}{7} & 0 & 0 & 0 & 0 & 0 & 0 & 0 & 0 & 0 & 0 & 0 & 0 & 0 & \\frac{3 \\sqrt{70}}{35} & 0 & 0 & 0 & 0\\\\0 & 0 & 0 & - \\frac{\\sqrt{30}}{10} & 0 & 0 & 0 & - \\frac{\\sqrt{14}}{14} & 0 & 0 & 0 & 0 & 0 & \\frac{\\sqrt{5}}{5} & 0 & 0 & 0 & 0 & 0 & 0 & 0 & \\frac{\\sqrt{21}}{7} & 0 & 0 & 0\\\\0 & 0 & 0 & 0 & 0 & 0 & 0 & 0 & \\frac{\\sqrt{14}}{7} & 0 & 0 & 0 & 0 & 0 & \\frac{\\sqrt{2}}{2} & 0 & 0 & 0 & 0 & 0 & 0 & 0 & \\frac{\\sqrt{42}}{14} & 0 & 0\\\\0 & - \\frac{\\sqrt{5}}{5} & 0 & 0 & 0 & \\frac{\\sqrt{21}}{7} & 0 & 0 & 0 & 0 & 0 & - \\frac{\\sqrt{30}}{10} & 0 & 0 & 0 & 0 & 0 & 0 & 0 & \\frac{\\sqrt{14}}{14} & 0 & 0 & 0 & 0 & 0\\\\- \\frac{\\sqrt{5}}{5} & 0 & \\frac{\\sqrt{10}}{10} & 0 & 0 & 0 & \\frac{\\sqrt{14}}{14} & 0 & 0 & 0 & 0 & 0 & - \\frac{\\sqrt{10}}{5} & 0 & 0 & 0 & 0 & 0 & 0 & 0 & \\frac{2 \\sqrt{70}}{35} & 0 & 0 & 0 & 0\\\\0 & 0 & 0 & \\frac{\\sqrt{30}}{10} & 0 & 0 & 0 & - \\frac{\\sqrt{14}}{14} & 0 & 0 & 0 & 0 & 0 & - \\frac{\\sqrt{5}}{5} & 0 & 0 & 0 & 0 & 0 & 0 & 0 & \\frac{\\sqrt{21}}{7} & 0 & 0 & 0\\\\0 & 0 & 0 & 0 & 0 & 0 & 0 & 0 & - \\frac{\\sqrt{21}}{7} & 0 & 0 & 0 & 0 & 0 & 0 & 0 & 0 & 0 & 0 & 0 & 0 & 0 & \\frac{2 \\sqrt{7}}{7} & 0 & 0\\\\0 & 0 & 0 & 0 & 0 & 0 & 0 & 0 & 0 & 0 & 0 & 0 & 0 & 0 & 0 & \\frac{\\sqrt{2}}{2} & 0 & 0 & 0 & 0 & 0 & 0 & 0 & \\frac{\\sqrt{2}}{2} & 0\\\\\\frac{\\sqrt{5}}{5} & 0 & - \\frac{\\sqrt{10}}{5} & 0 & 0 & 0 & \\frac{\\sqrt{14}}{7} & 0 & 0 & 0 & 0 & 0 & - \\frac{\\sqrt{10}}{10} & 0 & 0 & 0 & 0 & 0 & 0 & 0 & \\frac{\\sqrt{70}}{70} & 0 & 0 & 0 & 0\\\\0 & 0 & 0 & - \\frac{\\sqrt{5}}{5} & 0 & 0 & 0 & \\frac{\\sqrt{21}}{7} & 0 & 0 & 0 & 0 & 0 & - \\frac{\\sqrt{30}}{10} & 0 & 0 & 0 & 0 & 0 & 0 & 0 & \\frac{\\sqrt{14}}{14} & 0 & 0 & 0\\\\0 & 0 & 0 & 0 & 0 & 0 & 0 & 0 & \\frac{\\sqrt{14}}{7} & 0 & 0 & 0 & 0 & 0 & - \\frac{\\sqrt{2}}{2} & 0 & 0 & 0 & 0 & 0 & 0 & 0 & \\frac{\\sqrt{42}}{14} & 0 & 0\\\\0 & 0 & 0 & 0 & 0 & 0 & 0 & 0 & 0 & 0 & 0 & 0 & 0 & 0 & 0 & - \\frac{\\sqrt{2}}{2} & 0 & 0 & 0 & 0 & 0 & 0 & 0 & \\frac{\\sqrt{2}}{2} & 0\\\\0 & 0 & 0 & 0 & 0 & 0 & 0 & 0 & 0 & 0 & 0 & 0 & 0 & 0 & 0 & 0 & 0 & 0 & 0 & 0 & 0 & 0 & 0 & 0 & 1\\end{array}\\right]$"
      ],
      "text/plain": [
       "Matrix([\n",
       "[         0,            0,            0,            0,           0,            0,           0,            0,           0,          0,          0,            0,            0,            0,          0,          0, 1,         0,           0,           0,             0,           0,           0,         0, 0],\n",
       "[         0,            0,            0,            0,           0,            0,           0,            0,           0,  sqrt(2)/2,          0,            0,            0,            0,          0,          0, 0, sqrt(2)/2,           0,           0,             0,           0,           0,         0, 0],\n",
       "[         0,            0,            0,            0,  sqrt(14)/7,            0,           0,            0,           0,          0,  sqrt(2)/2,            0,            0,            0,          0,          0, 0,         0, sqrt(42)/14,           0,             0,           0,           0,         0, 0],\n",
       "[         0,    sqrt(5)/5,            0,            0,           0,   sqrt(21)/7,           0,            0,           0,          0,          0,  sqrt(30)/10,            0,            0,          0,          0, 0,         0,           0, sqrt(14)/14,             0,           0,           0,         0, 0],\n",
       "[ sqrt(5)/5,            0,   sqrt(10)/5,            0,           0,            0,  sqrt(14)/7,            0,           0,          0,          0,            0,  sqrt(10)/10,            0,          0,          0, 0,         0,           0,           0,   sqrt(70)/70,           0,           0,         0, 0],\n",
       "[         0,            0,            0,            0,           0,            0,           0,            0,           0, -sqrt(2)/2,          0,            0,            0,            0,          0,          0, 0, sqrt(2)/2,           0,           0,             0,           0,           0,         0, 0],\n",
       "[         0,            0,            0,            0, -sqrt(21)/7,            0,           0,            0,           0,          0,          0,            0,            0,            0,          0,          0, 0,         0, 2*sqrt(7)/7,           0,             0,           0,           0,         0, 0],\n",
       "[         0, -sqrt(30)/10,            0,            0,           0, -sqrt(14)/14,           0,            0,           0,          0,          0,    sqrt(5)/5,            0,            0,          0,          0, 0,         0,           0,  sqrt(21)/7,             0,           0,           0,         0, 0],\n",
       "[-sqrt(5)/5,            0, -sqrt(10)/10,            0,           0,            0, sqrt(14)/14,            0,           0,          0,          0,            0,   sqrt(10)/5,            0,          0,          0, 0,         0,           0,           0, 2*sqrt(70)/35,           0,           0,         0, 0],\n",
       "[         0,            0,            0,    sqrt(5)/5,           0,            0,           0,   sqrt(21)/7,           0,          0,          0,            0,            0,  sqrt(30)/10,          0,          0, 0,         0,           0,           0,             0, sqrt(14)/14,           0,         0, 0],\n",
       "[         0,            0,            0,            0,  sqrt(14)/7,            0,           0,            0,           0,          0, -sqrt(2)/2,            0,            0,            0,          0,          0, 0,         0, sqrt(42)/14,           0,             0,           0,           0,         0, 0],\n",
       "[         0,  sqrt(30)/10,            0,            0,           0, -sqrt(14)/14,           0,            0,           0,          0,          0,   -sqrt(5)/5,            0,            0,          0,          0, 0,         0,           0,  sqrt(21)/7,             0,           0,           0,         0, 0],\n",
       "[ sqrt(5)/5,            0,            0,            0,           0,            0, -sqrt(14)/7,            0,           0,          0,          0,            0,            0,            0,          0,          0, 0,         0,           0,           0, 3*sqrt(70)/35,           0,           0,         0, 0],\n",
       "[         0,            0,            0, -sqrt(30)/10,           0,            0,           0, -sqrt(14)/14,           0,          0,          0,            0,            0,    sqrt(5)/5,          0,          0, 0,         0,           0,           0,             0,  sqrt(21)/7,           0,         0, 0],\n",
       "[         0,            0,            0,            0,           0,            0,           0,            0,  sqrt(14)/7,          0,          0,            0,            0,            0,  sqrt(2)/2,          0, 0,         0,           0,           0,             0,           0, sqrt(42)/14,         0, 0],\n",
       "[         0,   -sqrt(5)/5,            0,            0,           0,   sqrt(21)/7,           0,            0,           0,          0,          0, -sqrt(30)/10,            0,            0,          0,          0, 0,         0,           0, sqrt(14)/14,             0,           0,           0,         0, 0],\n",
       "[-sqrt(5)/5,            0,  sqrt(10)/10,            0,           0,            0, sqrt(14)/14,            0,           0,          0,          0,            0,  -sqrt(10)/5,            0,          0,          0, 0,         0,           0,           0, 2*sqrt(70)/35,           0,           0,         0, 0],\n",
       "[         0,            0,            0,  sqrt(30)/10,           0,            0,           0, -sqrt(14)/14,           0,          0,          0,            0,            0,   -sqrt(5)/5,          0,          0, 0,         0,           0,           0,             0,  sqrt(21)/7,           0,         0, 0],\n",
       "[         0,            0,            0,            0,           0,            0,           0,            0, -sqrt(21)/7,          0,          0,            0,            0,            0,          0,          0, 0,         0,           0,           0,             0,           0, 2*sqrt(7)/7,         0, 0],\n",
       "[         0,            0,            0,            0,           0,            0,           0,            0,           0,          0,          0,            0,            0,            0,          0,  sqrt(2)/2, 0,         0,           0,           0,             0,           0,           0, sqrt(2)/2, 0],\n",
       "[ sqrt(5)/5,            0,  -sqrt(10)/5,            0,           0,            0,  sqrt(14)/7,            0,           0,          0,          0,            0, -sqrt(10)/10,            0,          0,          0, 0,         0,           0,           0,   sqrt(70)/70,           0,           0,         0, 0],\n",
       "[         0,            0,            0,   -sqrt(5)/5,           0,            0,           0,   sqrt(21)/7,           0,          0,          0,            0,            0, -sqrt(30)/10,          0,          0, 0,         0,           0,           0,             0, sqrt(14)/14,           0,         0, 0],\n",
       "[         0,            0,            0,            0,           0,            0,           0,            0,  sqrt(14)/7,          0,          0,            0,            0,            0, -sqrt(2)/2,          0, 0,         0,           0,           0,             0,           0, sqrt(42)/14,         0, 0],\n",
       "[         0,            0,            0,            0,           0,            0,           0,            0,           0,          0,          0,            0,            0,            0,          0, -sqrt(2)/2, 0,         0,           0,           0,             0,           0,           0, sqrt(2)/2, 0],\n",
       "[         0,            0,            0,            0,           0,            0,           0,            0,           0,          0,          0,            0,            0,            0,          0,          0, 0,         0,           0,           0,             0,           0,           0,         0, 1]])"
      ]
     },
     "execution_count": 27,
     "metadata": {},
     "output_type": "execute_result"
    }
   ],
   "source": [
    "modal(2,2)"
   ]
  },
  {
   "cell_type": "code",
   "execution_count": 28,
   "metadata": {},
   "outputs": [],
   "source": [
    "def table_cg(j1,j2):\n",
    "    k1=nsimplify(j1,rational=True)\n",
    "    k2=nsimplify(j2,rational=True)\n",
    "    JJdiag=(modal(k1,k2)**(-1))*DJJ(k1,k2)*modal(k1,k2)\n",
    "    J3diag=(modal(k1,k2)**(-1))*DJ(3,k1,k2)*modal(k1,k2)\n",
    "    dim=(DJJ(k1,k2).shape)[0]\n",
    "    for i in range(dim):\n",
    "        J=(-1+sqrt(4*JJdiag[i,i]+1))/2\n",
    "        M=J3diag[i,i]\n",
    "        for m1 in range(-k1,k1+1):\n",
    "            for m2 in range(-k2,k2+1):\n",
    "                if m1+m2==M:\n",
    "                    res=(conjugate(transpose(Ds(k1,m1,k2,m2)))*modal(k1,k2).col(i))[0]\n",
    "                    if res!=0:\n",
    "                        print(f'The Clebsch-Gordan coefficient <{k1},{m1};{k2},{m2}|{J},{M}> is {res}')\n",
    "    return "
   ]
  },
  {
   "cell_type": "code",
   "execution_count": 29,
   "metadata": {},
   "outputs": [
    {
     "name": "stdout",
     "output_type": "stream",
     "text": [
      "The Clebsch-Gordan coefficient <1,-1;1,1|0,0> is sqrt(3)/3\n",
      "The Clebsch-Gordan coefficient <1,0;1,0|0,0> is -sqrt(3)/3\n",
      "The Clebsch-Gordan coefficient <1,1;1,-1|0,0> is sqrt(3)/3\n",
      "The Clebsch-Gordan coefficient <1,0;1,1|1,1> is -sqrt(2)/2\n",
      "The Clebsch-Gordan coefficient <1,1;1,0|1,1> is sqrt(2)/2\n",
      "The Clebsch-Gordan coefficient <1,-1;1,1|1,0> is -sqrt(2)/2\n",
      "The Clebsch-Gordan coefficient <1,1;1,-1|1,0> is sqrt(2)/2\n",
      "The Clebsch-Gordan coefficient <1,-1;1,0|1,-1> is -sqrt(2)/2\n",
      "The Clebsch-Gordan coefficient <1,0;1,-1|1,-1> is sqrt(2)/2\n",
      "The Clebsch-Gordan coefficient <1,1;1,1|2,2> is 1\n",
      "The Clebsch-Gordan coefficient <1,0;1,1|2,1> is sqrt(2)/2\n",
      "The Clebsch-Gordan coefficient <1,1;1,0|2,1> is sqrt(2)/2\n",
      "The Clebsch-Gordan coefficient <1,-1;1,1|2,0> is sqrt(6)/6\n",
      "The Clebsch-Gordan coefficient <1,0;1,0|2,0> is sqrt(6)/3\n",
      "The Clebsch-Gordan coefficient <1,1;1,-1|2,0> is sqrt(6)/6\n",
      "The Clebsch-Gordan coefficient <1,-1;1,0|2,-1> is sqrt(2)/2\n",
      "The Clebsch-Gordan coefficient <1,0;1,-1|2,-1> is sqrt(2)/2\n",
      "The Clebsch-Gordan coefficient <1,-1;1,-1|2,-2> is 1\n"
     ]
    }
   ],
   "source": [
    "table_cg(1,1)"
   ]
  },
  {
   "cell_type": "code",
   "execution_count": 30,
   "metadata": {},
   "outputs": [
    {
     "name": "stdout",
     "output_type": "stream",
     "text": [
      "The Clebsch-Gordan coefficient <2,-2;2,2|0,0> is sqrt(5)/5\n",
      "The Clebsch-Gordan coefficient <2,-1;2,1|0,0> is -sqrt(5)/5\n",
      "The Clebsch-Gordan coefficient <2,0;2,0|0,0> is sqrt(5)/5\n",
      "The Clebsch-Gordan coefficient <2,1;2,-1|0,0> is -sqrt(5)/5\n",
      "The Clebsch-Gordan coefficient <2,2;2,-2|0,0> is sqrt(5)/5\n",
      "The Clebsch-Gordan coefficient <2,-1;2,2|1,1> is -sqrt(5)/5\n",
      "The Clebsch-Gordan coefficient <2,0;2,1|1,1> is sqrt(30)/10\n",
      "The Clebsch-Gordan coefficient <2,1;2,0|1,1> is -sqrt(30)/10\n",
      "The Clebsch-Gordan coefficient <2,2;2,-1|1,1> is sqrt(5)/5\n",
      "The Clebsch-Gordan coefficient <2,-2;2,2|1,0> is -sqrt(10)/5\n",
      "The Clebsch-Gordan coefficient <2,-1;2,1|1,0> is sqrt(10)/10\n",
      "The Clebsch-Gordan coefficient <2,1;2,-1|1,0> is -sqrt(10)/10\n",
      "The Clebsch-Gordan coefficient <2,2;2,-2|1,0> is sqrt(10)/5\n",
      "The Clebsch-Gordan coefficient <2,-2;2,1|1,-1> is -sqrt(5)/5\n",
      "The Clebsch-Gordan coefficient <2,-1;2,0|1,-1> is sqrt(30)/10\n",
      "The Clebsch-Gordan coefficient <2,0;2,-1|1,-1> is -sqrt(30)/10\n",
      "The Clebsch-Gordan coefficient <2,1;2,-2|1,-1> is sqrt(5)/5\n",
      "The Clebsch-Gordan coefficient <2,0;2,2|2,2> is sqrt(14)/7\n",
      "The Clebsch-Gordan coefficient <2,1;2,1|2,2> is -sqrt(21)/7\n",
      "The Clebsch-Gordan coefficient <2,2;2,0|2,2> is sqrt(14)/7\n",
      "The Clebsch-Gordan coefficient <2,-1;2,2|2,1> is sqrt(21)/7\n",
      "The Clebsch-Gordan coefficient <2,0;2,1|2,1> is -sqrt(14)/14\n",
      "The Clebsch-Gordan coefficient <2,1;2,0|2,1> is -sqrt(14)/14\n",
      "The Clebsch-Gordan coefficient <2,2;2,-1|2,1> is sqrt(21)/7\n",
      "The Clebsch-Gordan coefficient <2,-2;2,2|2,0> is sqrt(14)/7\n",
      "The Clebsch-Gordan coefficient <2,-1;2,1|2,0> is sqrt(14)/14\n",
      "The Clebsch-Gordan coefficient <2,0;2,0|2,0> is -sqrt(14)/7\n",
      "The Clebsch-Gordan coefficient <2,1;2,-1|2,0> is sqrt(14)/14\n",
      "The Clebsch-Gordan coefficient <2,2;2,-2|2,0> is sqrt(14)/7\n",
      "The Clebsch-Gordan coefficient <2,-2;2,1|2,-1> is sqrt(21)/7\n",
      "The Clebsch-Gordan coefficient <2,-1;2,0|2,-1> is -sqrt(14)/14\n",
      "The Clebsch-Gordan coefficient <2,0;2,-1|2,-1> is -sqrt(14)/14\n",
      "The Clebsch-Gordan coefficient <2,1;2,-2|2,-1> is sqrt(21)/7\n",
      "The Clebsch-Gordan coefficient <2,-2;2,0|2,-2> is sqrt(14)/7\n",
      "The Clebsch-Gordan coefficient <2,-1;2,-1|2,-2> is -sqrt(21)/7\n",
      "The Clebsch-Gordan coefficient <2,0;2,-2|2,-2> is sqrt(14)/7\n",
      "The Clebsch-Gordan coefficient <2,1;2,2|3,3> is -sqrt(2)/2\n",
      "The Clebsch-Gordan coefficient <2,2;2,1|3,3> is sqrt(2)/2\n",
      "The Clebsch-Gordan coefficient <2,0;2,2|3,2> is -sqrt(2)/2\n",
      "The Clebsch-Gordan coefficient <2,2;2,0|3,2> is sqrt(2)/2\n",
      "The Clebsch-Gordan coefficient <2,-1;2,2|3,1> is -sqrt(30)/10\n",
      "The Clebsch-Gordan coefficient <2,0;2,1|3,1> is -sqrt(5)/5\n",
      "The Clebsch-Gordan coefficient <2,1;2,0|3,1> is sqrt(5)/5\n",
      "The Clebsch-Gordan coefficient <2,2;2,-1|3,1> is sqrt(30)/10\n",
      "The Clebsch-Gordan coefficient <2,-2;2,2|3,0> is -sqrt(10)/10\n",
      "The Clebsch-Gordan coefficient <2,-1;2,1|3,0> is -sqrt(10)/5\n",
      "The Clebsch-Gordan coefficient <2,1;2,-1|3,0> is sqrt(10)/5\n",
      "The Clebsch-Gordan coefficient <2,2;2,-2|3,0> is sqrt(10)/10\n",
      "The Clebsch-Gordan coefficient <2,-2;2,1|3,-1> is -sqrt(30)/10\n",
      "The Clebsch-Gordan coefficient <2,-1;2,0|3,-1> is -sqrt(5)/5\n",
      "The Clebsch-Gordan coefficient <2,0;2,-1|3,-1> is sqrt(5)/5\n",
      "The Clebsch-Gordan coefficient <2,1;2,-2|3,-1> is sqrt(30)/10\n",
      "The Clebsch-Gordan coefficient <2,-2;2,0|3,-2> is -sqrt(2)/2\n",
      "The Clebsch-Gordan coefficient <2,0;2,-2|3,-2> is sqrt(2)/2\n",
      "The Clebsch-Gordan coefficient <2,-2;2,-1|3,-3> is -sqrt(2)/2\n",
      "The Clebsch-Gordan coefficient <2,-1;2,-2|3,-3> is sqrt(2)/2\n",
      "The Clebsch-Gordan coefficient <2,2;2,2|4,4> is 1\n",
      "The Clebsch-Gordan coefficient <2,1;2,2|4,3> is sqrt(2)/2\n",
      "The Clebsch-Gordan coefficient <2,2;2,1|4,3> is sqrt(2)/2\n",
      "The Clebsch-Gordan coefficient <2,0;2,2|4,2> is sqrt(42)/14\n",
      "The Clebsch-Gordan coefficient <2,1;2,1|4,2> is 2*sqrt(7)/7\n",
      "The Clebsch-Gordan coefficient <2,2;2,0|4,2> is sqrt(42)/14\n",
      "The Clebsch-Gordan coefficient <2,-1;2,2|4,1> is sqrt(14)/14\n",
      "The Clebsch-Gordan coefficient <2,0;2,1|4,1> is sqrt(21)/7\n",
      "The Clebsch-Gordan coefficient <2,1;2,0|4,1> is sqrt(21)/7\n",
      "The Clebsch-Gordan coefficient <2,2;2,-1|4,1> is sqrt(14)/14\n",
      "The Clebsch-Gordan coefficient <2,-2;2,2|4,0> is sqrt(70)/70\n",
      "The Clebsch-Gordan coefficient <2,-1;2,1|4,0> is 2*sqrt(70)/35\n",
      "The Clebsch-Gordan coefficient <2,0;2,0|4,0> is 3*sqrt(70)/35\n",
      "The Clebsch-Gordan coefficient <2,1;2,-1|4,0> is 2*sqrt(70)/35\n",
      "The Clebsch-Gordan coefficient <2,2;2,-2|4,0> is sqrt(70)/70\n",
      "The Clebsch-Gordan coefficient <2,-2;2,1|4,-1> is sqrt(14)/14\n",
      "The Clebsch-Gordan coefficient <2,-1;2,0|4,-1> is sqrt(21)/7\n",
      "The Clebsch-Gordan coefficient <2,0;2,-1|4,-1> is sqrt(21)/7\n",
      "The Clebsch-Gordan coefficient <2,1;2,-2|4,-1> is sqrt(14)/14\n",
      "The Clebsch-Gordan coefficient <2,-2;2,0|4,-2> is sqrt(42)/14\n",
      "The Clebsch-Gordan coefficient <2,-1;2,-1|4,-2> is 2*sqrt(7)/7\n",
      "The Clebsch-Gordan coefficient <2,0;2,-2|4,-2> is sqrt(42)/14\n",
      "The Clebsch-Gordan coefficient <2,-2;2,-1|4,-3> is sqrt(2)/2\n",
      "The Clebsch-Gordan coefficient <2,-1;2,-2|4,-3> is sqrt(2)/2\n",
      "The Clebsch-Gordan coefficient <2,-2;2,-2|4,-4> is 1\n"
     ]
    }
   ],
   "source": [
    "table_cg(2,2)"
   ]
  },
  {
   "cell_type": "code",
   "execution_count": null,
   "metadata": {},
   "outputs": [],
   "source": []
  }
 ],
 "metadata": {
  "kernelspec": {
   "display_name": "Python 3 (ipykernel)",
   "language": "python",
   "name": "python3"
  },
  "language_info": {
   "codemirror_mode": {
    "name": "ipython",
    "version": 3
   },
   "file_extension": ".py",
   "mimetype": "text/x-python",
   "name": "python",
   "nbconvert_exporter": "python",
   "pygments_lexer": "ipython3",
   "version": "3.9.13"
  }
 },
 "nbformat": 4,
 "nbformat_minor": 4
}
